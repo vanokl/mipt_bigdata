{
 "cells": [
  {
   "cell_type": "code",
   "execution_count": 4,
   "metadata": {},
   "outputs": [],
   "source": [
    "import numpy as np, matplotlib as mpl, matplotlib.pyplot as plt, pandas as pd\n",
    "import seaborn as sns, math, os, warnings\n",
    "warnings.filterwarnings('ignore')"
   ]
  },
  {
   "cell_type": "markdown",
   "metadata": {},
   "source": [
    "# Data Exploration"
   ]
  },
  {
   "cell_type": "code",
   "execution_count": 85,
   "metadata": {},
   "outputs": [],
   "source": [
    "# Загрузим данные\n",
    "df_data = pd.read_csv('uplift_synthetic_data_100trials.csv').iloc[: , 1:]\n",
    "df_model = df_data.drop([\"control_conversion_prob\", \"treatment1_conversion_prob\", \"treatment1_true_effect\"], axis=1).copy()\n",
    "\n"
   ]
  },
  {
   "cell_type": "code",
   "execution_count": 86,
   "metadata": {},
   "outputs": [
    {
     "data": {
      "text/html": [
       "<div>\n",
       "<style scoped>\n",
       "    .dataframe tbody tr th:only-of-type {\n",
       "        vertical-align: middle;\n",
       "    }\n",
       "\n",
       "    .dataframe tbody tr th {\n",
       "        vertical-align: top;\n",
       "    }\n",
       "\n",
       "    .dataframe thead th {\n",
       "        text-align: right;\n",
       "    }\n",
       "</style>\n",
       "<table border=\"1\" class=\"dataframe\">\n",
       "  <thead>\n",
       "    <tr style=\"text-align: right;\">\n",
       "      <th></th>\n",
       "      <th>trial_id</th>\n",
       "      <th>treatment_group_key</th>\n",
       "      <th>conversion</th>\n",
       "      <th>control_conversion_prob</th>\n",
       "      <th>treatment1_conversion_prob</th>\n",
       "      <th>treatment1_true_effect</th>\n",
       "      <th>x1_informative</th>\n",
       "      <th>x2_informative</th>\n",
       "      <th>x3_informative</th>\n",
       "      <th>x4_informative</th>\n",
       "      <th>...</th>\n",
       "      <th>x27_irrelevant</th>\n",
       "      <th>x28_irrelevant</th>\n",
       "      <th>x29_irrelevant</th>\n",
       "      <th>x30_irrelevant</th>\n",
       "      <th>x31_uplift_increase</th>\n",
       "      <th>x32_uplift_increase</th>\n",
       "      <th>x33_uplift_increase</th>\n",
       "      <th>x34_uplift_increase</th>\n",
       "      <th>x35_uplift_increase</th>\n",
       "      <th>x36_uplift_increase</th>\n",
       "    </tr>\n",
       "  </thead>\n",
       "  <tbody>\n",
       "    <tr>\n",
       "      <th>0</th>\n",
       "      <td>0</td>\n",
       "      <td>control</td>\n",
       "      <td>1</td>\n",
       "      <td>0.516606</td>\n",
       "      <td>0.572609</td>\n",
       "      <td>0.056002</td>\n",
       "      <td>-1.926651</td>\n",
       "      <td>1.233472</td>\n",
       "      <td>-0.475120</td>\n",
       "      <td>0.081283</td>\n",
       "      <td>...</td>\n",
       "      <td>-0.378145</td>\n",
       "      <td>-0.110782</td>\n",
       "      <td>1.087180</td>\n",
       "      <td>-1.222069</td>\n",
       "      <td>-0.279009</td>\n",
       "      <td>1.013911</td>\n",
       "      <td>-0.570859</td>\n",
       "      <td>-1.158216</td>\n",
       "      <td>-1.336279</td>\n",
       "      <td>-0.708056</td>\n",
       "    </tr>\n",
       "    <tr>\n",
       "      <th>1</th>\n",
       "      <td>0</td>\n",
       "      <td>treatment1</td>\n",
       "      <td>1</td>\n",
       "      <td>0.304005</td>\n",
       "      <td>0.736460</td>\n",
       "      <td>0.432454</td>\n",
       "      <td>0.904364</td>\n",
       "      <td>0.868705</td>\n",
       "      <td>-0.285977</td>\n",
       "      <td>0.840136</td>\n",
       "      <td>...</td>\n",
       "      <td>-0.742847</td>\n",
       "      <td>0.700239</td>\n",
       "      <td>0.001867</td>\n",
       "      <td>-0.069362</td>\n",
       "      <td>0.045789</td>\n",
       "      <td>1.364182</td>\n",
       "      <td>-0.261643</td>\n",
       "      <td>0.478074</td>\n",
       "      <td>0.531477</td>\n",
       "      <td>0.402723</td>\n",
       "    </tr>\n",
       "    <tr>\n",
       "      <th>2</th>\n",
       "      <td>0</td>\n",
       "      <td>treatment1</td>\n",
       "      <td>0</td>\n",
       "      <td>0.134277</td>\n",
       "      <td>0.480985</td>\n",
       "      <td>0.346709</td>\n",
       "      <td>1.680978</td>\n",
       "      <td>1.320889</td>\n",
       "      <td>0.059273</td>\n",
       "      <td>-0.517732</td>\n",
       "      <td>...</td>\n",
       "      <td>0.748884</td>\n",
       "      <td>-0.856898</td>\n",
       "      <td>-0.268034</td>\n",
       "      <td>-2.181874</td>\n",
       "      <td>1.473214</td>\n",
       "      <td>-1.256641</td>\n",
       "      <td>0.901139</td>\n",
       "      <td>2.029204</td>\n",
       "      <td>-0.280445</td>\n",
       "      <td>0.873970</td>\n",
       "    </tr>\n",
       "    <tr>\n",
       "      <th>3</th>\n",
       "      <td>0</td>\n",
       "      <td>treatment1</td>\n",
       "      <td>1</td>\n",
       "      <td>0.801968</td>\n",
       "      <td>0.858532</td>\n",
       "      <td>0.056563</td>\n",
       "      <td>-0.335774</td>\n",
       "      <td>-2.940232</td>\n",
       "      <td>-0.302521</td>\n",
       "      <td>0.236998</td>\n",
       "      <td>...</td>\n",
       "      <td>0.151074</td>\n",
       "      <td>0.067547</td>\n",
       "      <td>-0.839246</td>\n",
       "      <td>0.587575</td>\n",
       "      <td>0.412081</td>\n",
       "      <td>0.141189</td>\n",
       "      <td>0.369611</td>\n",
       "      <td>-0.364984</td>\n",
       "      <td>-1.509045</td>\n",
       "      <td>-1.335023</td>\n",
       "    </tr>\n",
       "    <tr>\n",
       "      <th>4</th>\n",
       "      <td>0</td>\n",
       "      <td>control</td>\n",
       "      <td>0</td>\n",
       "      <td>0.063552</td>\n",
       "      <td>0.060142</td>\n",
       "      <td>-0.003410</td>\n",
       "      <td>-0.475881</td>\n",
       "      <td>-0.485793</td>\n",
       "      <td>0.978582</td>\n",
       "      <td>-0.610766</td>\n",
       "      <td>...</td>\n",
       "      <td>-1.287117</td>\n",
       "      <td>1.256396</td>\n",
       "      <td>-1.155307</td>\n",
       "      <td>-0.414787</td>\n",
       "      <td>1.163851</td>\n",
       "      <td>0.698114</td>\n",
       "      <td>0.088157</td>\n",
       "      <td>0.478717</td>\n",
       "      <td>-0.680588</td>\n",
       "      <td>-2.730850</td>\n",
       "    </tr>\n",
       "  </tbody>\n",
       "</table>\n",
       "<p>5 rows × 42 columns</p>\n",
       "</div>"
      ],
      "text/plain": [
       "   trial_id treatment_group_key  conversion  control_conversion_prob  \\\n",
       "0         0             control           1                 0.516606   \n",
       "1         0          treatment1           1                 0.304005   \n",
       "2         0          treatment1           0                 0.134277   \n",
       "3         0          treatment1           1                 0.801968   \n",
       "4         0             control           0                 0.063552   \n",
       "\n",
       "   treatment1_conversion_prob  treatment1_true_effect  x1_informative  \\\n",
       "0                    0.572609                0.056002       -1.926651   \n",
       "1                    0.736460                0.432454        0.904364   \n",
       "2                    0.480985                0.346709        1.680978   \n",
       "3                    0.858532                0.056563       -0.335774   \n",
       "4                    0.060142               -0.003410       -0.475881   \n",
       "\n",
       "   x2_informative  x3_informative  x4_informative  ...  x27_irrelevant  \\\n",
       "0        1.233472       -0.475120        0.081283  ...       -0.378145   \n",
       "1        0.868705       -0.285977        0.840136  ...       -0.742847   \n",
       "2        1.320889        0.059273       -0.517732  ...        0.748884   \n",
       "3       -2.940232       -0.302521        0.236998  ...        0.151074   \n",
       "4       -0.485793        0.978582       -0.610766  ...       -1.287117   \n",
       "\n",
       "   x28_irrelevant  x29_irrelevant  x30_irrelevant  x31_uplift_increase  \\\n",
       "0       -0.110782        1.087180       -1.222069            -0.279009   \n",
       "1        0.700239        0.001867       -0.069362             0.045789   \n",
       "2       -0.856898       -0.268034       -2.181874             1.473214   \n",
       "3        0.067547       -0.839246        0.587575             0.412081   \n",
       "4        1.256396       -1.155307       -0.414787             1.163851   \n",
       "\n",
       "   x32_uplift_increase  x33_uplift_increase  x34_uplift_increase  \\\n",
       "0             1.013911            -0.570859            -1.158216   \n",
       "1             1.364182            -0.261643             0.478074   \n",
       "2            -1.256641             0.901139             2.029204   \n",
       "3             0.141189             0.369611            -0.364984   \n",
       "4             0.698114             0.088157             0.478717   \n",
       "\n",
       "   x35_uplift_increase  x36_uplift_increase  \n",
       "0            -1.336279            -0.708056  \n",
       "1             0.531477             0.402723  \n",
       "2            -0.280445             0.873970  \n",
       "3            -1.509045            -1.335023  \n",
       "4            -0.680588            -2.730850  \n",
       "\n",
       "[5 rows x 42 columns]"
      ]
     },
     "execution_count": 86,
     "metadata": {},
     "output_type": "execute_result"
    }
   ],
   "source": [
    "df_data.head()"
   ]
  },
  {
   "cell_type": "code",
   "execution_count": 87,
   "metadata": {},
   "outputs": [
    {
     "name": "stdout",
     "output_type": "stream",
     "text": [
      "<class 'pandas.core.frame.DataFrame'>\n",
      "RangeIndex: 1000000 entries, 0 to 999999\n",
      "Data columns (total 39 columns):\n",
      " #   Column               Non-Null Count    Dtype  \n",
      "---  ------               --------------    -----  \n",
      " 0   trial_id             1000000 non-null  int64  \n",
      " 1   treatment_group_key  1000000 non-null  object \n",
      " 2   conversion           1000000 non-null  int64  \n",
      " 3   x1_informative       1000000 non-null  float64\n",
      " 4   x2_informative       1000000 non-null  float64\n",
      " 5   x3_informative       1000000 non-null  float64\n",
      " 6   x4_informative       1000000 non-null  float64\n",
      " 7   x5_informative       1000000 non-null  float64\n",
      " 8   x6_informative       1000000 non-null  float64\n",
      " 9   x7_informative       1000000 non-null  float64\n",
      " 10  x8_informative       1000000 non-null  float64\n",
      " 11  x9_informative       1000000 non-null  float64\n",
      " 12  x10_informative      1000000 non-null  float64\n",
      " 13  x11_irrelevant       1000000 non-null  float64\n",
      " 14  x12_irrelevant       1000000 non-null  float64\n",
      " 15  x13_irrelevant       1000000 non-null  float64\n",
      " 16  x14_irrelevant       1000000 non-null  float64\n",
      " 17  x15_irrelevant       1000000 non-null  float64\n",
      " 18  x16_irrelevant       1000000 non-null  float64\n",
      " 19  x17_irrelevant       1000000 non-null  float64\n",
      " 20  x18_irrelevant       1000000 non-null  float64\n",
      " 21  x19_irrelevant       1000000 non-null  float64\n",
      " 22  x20_irrelevant       1000000 non-null  float64\n",
      " 23  x21_irrelevant       1000000 non-null  float64\n",
      " 24  x22_irrelevant       1000000 non-null  float64\n",
      " 25  x23_irrelevant       1000000 non-null  float64\n",
      " 26  x24_irrelevant       1000000 non-null  float64\n",
      " 27  x25_irrelevant       1000000 non-null  float64\n",
      " 28  x26_irrelevant       1000000 non-null  float64\n",
      " 29  x27_irrelevant       1000000 non-null  float64\n",
      " 30  x28_irrelevant       1000000 non-null  float64\n",
      " 31  x29_irrelevant       1000000 non-null  float64\n",
      " 32  x30_irrelevant       1000000 non-null  float64\n",
      " 33  x31_uplift_increase  1000000 non-null  float64\n",
      " 34  x32_uplift_increase  1000000 non-null  float64\n",
      " 35  x33_uplift_increase  1000000 non-null  float64\n",
      " 36  x34_uplift_increase  1000000 non-null  float64\n",
      " 37  x35_uplift_increase  1000000 non-null  float64\n",
      " 38  x36_uplift_increase  1000000 non-null  float64\n",
      "dtypes: float64(36), int64(2), object(1)\n",
      "memory usage: 297.5+ MB\n"
     ]
    }
   ],
   "source": [
    "# Проверим общую информацию о датасете (пропуски и типы данных)\n",
    "df_model.info()"
   ]
  },
  {
   "cell_type": "markdown",
   "metadata": {},
   "source": [
    "Видим, что пропусков в датасете нет."
   ]
  },
  {
   "cell_type": "code",
   "execution_count": 88,
   "metadata": {},
   "outputs": [
    {
     "data": {
      "text/plain": [
       "array([ 0,  1,  2,  3,  4,  5,  6,  7,  8,  9, 10, 11, 12, 13, 14, 15, 16,\n",
       "       17, 18, 19, 20, 21, 22, 23, 24, 25, 26, 27, 28, 29, 30, 31, 32, 33,\n",
       "       34, 35, 36, 37, 38, 39, 40, 41, 42, 43, 44, 45, 46, 47, 48, 49, 50,\n",
       "       51, 52, 53, 54, 55, 56, 57, 58, 59, 60, 61, 62, 63, 64, 65, 66, 67,\n",
       "       68, 69, 70, 71, 72, 73, 74, 75, 76, 77, 78, 79, 80, 81, 82, 83, 84,\n",
       "       85, 86, 87, 88, 89, 90, 91, 92, 93, 94, 95, 96, 97, 98, 99],\n",
       "      dtype=int64)"
      ]
     },
     "execution_count": 88,
     "metadata": {},
     "output_type": "execute_result"
    }
   ],
   "source": [
    "# посмотрим сколько уникальных значений в  trial_id\n",
    "df_model.trial_id.unique()"
   ]
  },
  {
   "cell_type": "code",
   "execution_count": 89,
   "metadata": {},
   "outputs": [
    {
     "data": {
      "text/plain": [
       "array(['control', 'treatment1'], dtype=object)"
      ]
     },
     "execution_count": 89,
     "metadata": {},
     "output_type": "execute_result"
    }
   ],
   "source": [
    "#  В датасете выделена контрольная и целевая группа\n",
    "df_model.treatment_group_key.unique()"
   ]
  },
  {
   "cell_type": "code",
   "execution_count": 90,
   "metadata": {},
   "outputs": [
    {
     "data": {
      "image/png": "[encoded data removed]",
      "text/plain": [
       "<Figure size 1500x500 with 3 Axes>"
      ]
     },
     "metadata": {},
     "output_type": "display_data"
    }
   ],
   "source": [
    "# посмотрим на распределения нескольких фичей из групп informative, irrelevant и uplift_increase\n",
    "import matplotlib.pyplot as plt\n",
    "\n",
    "df_feats = df_model[[\"x1_informative\", \"x18_irrelevant\", \"x32_uplift_increase\"]]\n",
    "\n",
    "fig, ax = plt.subplots(nrows=1, ncols=3, figsize=(15, 5))\n",
    "\n",
    "for ind, feat in enumerate(df_feats.columns):\n",
    "\n",
    "    ax[ind%3].hist(df_feats[feat])\n",
    "    ax[ind%3].set_title(feat)\n",
    " "
   ]
  },
  {
   "cell_type": "code",
   "execution_count": 91,
   "metadata": {},
   "outputs": [],
   "source": [
    "# Видно, что фичи распределены нормально"
   ]
  },
  {
   "cell_type": "code",
   "execution_count": 92,
   "metadata": {},
   "outputs": [
    {
     "data": {
      "text/plain": [
       "conversion  treatment_group_key\n",
       "0           control                375736\n",
       "            treatment1             320513\n",
       "1           control                124264\n",
       "            treatment1             179487\n",
       "Name: trial_id, dtype: int64"
      ]
     },
     "execution_count": 92,
     "metadata": {},
     "output_type": "execute_result"
    }
   ],
   "source": [
    "# посмотрим на распределение таргета в контрольной и целевой группе\n",
    "\n",
    "df_model.groupby([\"conversion\", \"treatment_group_key\"])[\"trial_id\"].count()"
   ]
  },
  {
   "cell_type": "markdown",
   "metadata": {},
   "source": [
    "## Предобработка данных"
   ]
  },
  {
   "cell_type": "code",
   "execution_count": 93,
   "metadata": {},
   "outputs": [],
   "source": [
    "# Переименуем целевой признак (таргет) и столбец offer -> treatment\n",
    "df_model = df_model.rename(columns={'conversion': 'target'})\n",
    "df_model = df_model.rename(columns={'treatment_group_key': 'treatment'})\n",
    "df_model.treatment = df_model.treatment.map({'control': 0, 'treatment1': 1})"
   ]
  },
  {
   "cell_type": "markdown",
   "metadata": {},
   "source": [
    "## Определим классы клиентов\n",
    "\n",
    "* <h3> Control Non-Responders(CN) </h3>\n",
    "Клиенты, которые не сделают заказ без акции/воздействия (value = 0)\n",
    "\n",
    "* <h3> Control Responders(CR) </h3>\n",
    "Клиенты, которые сделают заказ без акции/воздействия(value = 1)\n",
    "\n",
    "* <h3> Treatment Non-Responders(TN) </h3>\n",
    "Клиенты, которые не сделали заказ и приняли акционное предложение (value = 2)\n",
    "\n",
    "* <h3> Treatment Responders(TR) </h3>\n",
    "Клиенты, которые сделали заказ и приняли акционное предложение (value = 3)\n",
    "\n",
    "\n",
    "\n",
    "\n",
    "\n",
    "\n"
   ]
  },
  {
   "cell_type": "code",
   "execution_count": 94,
   "metadata": {},
   "outputs": [],
   "source": [
    "def declare_tc(df:pd.DataFrame):\n",
    "    \"\"\"Declare target class\n",
    "    \"\"\"\n",
    "    #CN:\n",
    "    df['target_class'] = 0\n",
    "    #CR:\n",
    "    df.loc[(df.treatment == 0) & (df.target != 0),'target_class'] = 1\n",
    "    #TN:\n",
    "    df.loc[(df.treatment != 0) & (df.target == 0),'target_class'] = 2\n",
    "    #TR:\n",
    "    df.loc[(df.treatment != 0) & (df.target != 0),'target_class'] = 3\n",
    "    return df"
   ]
  },
  {
   "cell_type": "code",
   "execution_count": 96,
   "metadata": {},
   "outputs": [],
   "source": [
    "df_model = declare_tc(df_model)"
   ]
  },
  {
   "cell_type": "markdown",
   "metadata": {},
   "source": [
    "## Uplift Modeling\n",
    "Мы используем Lai’s Generalized Weighed Uplift (LGWUM) для оценки uplift score.\n",
    "<br>LGWUM один из подходов (https://www.worldscientific.com/doi/abs/10.1142/S0219622019500172) используемых в Uplift Modeling (https://dl.acm.org/doi/abs/10.1145/772862.772872). Обозначим за P вероятность, T обозначает общее число клиентов, на которых воздействовали (TR + TN), а C обозначает общее число клиентов на которых не совершали маркетингового воздействия (CR + CN).\n",
    "В этом случае Uplift Score может быть вычислена как:\n",
    "> **Uplift Score = P(TR)/P(T) + P(CN)/P(C) - P(TN)/P(T) - P(CR)/P(C)**\n"
   ]
  },
  {
   "cell_type": "code",
   "execution_count": 97,
   "metadata": {},
   "outputs": [],
   "source": [
    "# Functions for Uplift\n",
    "from sklearn.model_selection import train_test_split\n",
    "import xgboost as xgb\n",
    "def uplift_split(df_model:pd.DataFrame):\n",
    "    \"\"\"Train-Test Split\n",
    "    \"\"\"\n",
    "    X = df_model.drop(['target','target_class'],axis=1)\n",
    "    y = df_model.target_class\n",
    "    X_train, X_test, \\\n",
    "    y_train, y_test  = train_test_split(X,\n",
    "                                       y,\n",
    "                                       test_size=0.3,\n",
    "                                       random_state=42,\n",
    "                                       stratify=df_model['treatment'])\n",
    "    return X_train,X_test, y_train, y_test\n",
    "\n",
    "\n",
    "def uplift_model(X_train:pd.DataFrame,\n",
    "                 X_test:pd.DataFrame,\n",
    "                 y_train:pd.DataFrame,\n",
    "                 y_test:pd.DataFrame):\n",
    "    \"\"\"Using XGB to get the uplift score\n",
    "    \"\"\"\n",
    "    # Create new dataframe\n",
    "    result = pd.DataFrame(X_test).copy()\n",
    "    # Fit the model\n",
    "    uplift_model \\\n",
    "    = xgb.XGBClassifier().fit(X_train.drop('treatment', axis=1), y_train)\n",
    "\n",
    "\n",
    "    # Predict using test-data\n",
    "    uplift_proba \\\n",
    "    = uplift_model.predict_proba(X_test.drop('treatment', axis=1))\n",
    "    result['proba_CN'] = uplift_proba[:,0]\n",
    "    result['proba_CR'] = uplift_proba[:,1]\n",
    "    result['proba_TN'] = uplift_proba[:,2]\n",
    "    result['proba_TR'] = uplift_proba[:,3]\n",
    "    result['uplift_score'] = result.eval('\\\n",
    "    proba_CN/(proba_CN+proba_CR) \\\n",
    "    + proba_TR/(proba_TN+proba_TR) \\\n",
    "    - proba_TN/(proba_TN+proba_TR) \\\n",
    "    - proba_CR/(proba_CN+proba_CR)')\n",
    "    # Put the result\n",
    "    result['target_class'] = y_test\n",
    "    return result\n",
    "\n",
    "\n",
    "def uplift(df_model:pd.DataFrame):\n",
    "    \"\"\"Combine the split and Modeling function\n",
    "    \"\"\"\n",
    "    X_train, X_test, y_train, y_test = uplift_split(df_model)\n",
    "    result = uplift_model(X_train, X_test, y_train, y_test)\n",
    "    return result"
   ]
  },
  {
   "cell_type": "code",
   "execution_count": 98,
   "metadata": {},
   "outputs": [],
   "source": [
    "treat_uplift = uplift(df_model)"
   ]
  },
  {
   "cell_type": "markdown",
   "metadata": {},
   "source": [
    "# Оценка модели - кривая QINI\n",
    "QINI (Uplift value) вычислыется как:\n",
    "> **QINI = TR - [(CR*T)/C]**\n",
    "\n",
    "или в процентах:\n",
    "> **QINI = (TR/T) - (CR/C)**"
   ]
  },
  {
   "cell_type": "code",
   "execution_count": 100,
   "metadata": {},
   "outputs": [],
   "source": [
    "# Functions to build the Uplift model and visualize the QINI Curve\n",
    "def qini_rank(uplift:pd.DataFrame):\n",
    "    \"\"\"Rank the data by the uplift score\n",
    "    \"\"\"\n",
    "    # Creat new dataframe\n",
    "    ranked = pd.DataFrame({'n':[], 'target_class':[]})\n",
    "    ranked['target_class'] = uplift['target_class']\n",
    "    ranked['uplift_score'] = uplift['uplift_score']\n",
    "\n",
    "\n",
    "    # Add proportion\n",
    "    ranked['n'] = ranked.uplift_score.rank(pct=True, ascending=False)\n",
    "    # Data Ranking\n",
    "    ranked = ranked.sort_values(by='n').reset_index(drop=True)\n",
    "    return ranked\n",
    "\n",
    "\n",
    "def qini_eval(ranked:pd.DataFrame):\n",
    "    \"\"\"Evaluate the uplift value with the QINI criterion\n",
    "    \"\"\"\n",
    "    uplift_model, random_model = ranked.copy(), ranked.copy()\n",
    "    # Using Treatment and Control Group to calculate the uplift (Incremental gain)\n",
    "    C, T = sum(ranked['target_class'] <= 1), sum(ranked['target_class'] >= 2)\n",
    "    ranked['cr'] = 0\n",
    "    ranked['tr'] = 0\n",
    "    ranked.loc[ranked.target_class == 1,'cr'] = 1\n",
    "    ranked.loc[ranked.target_class == 3,'tr'] = 1\n",
    "    ranked['cr/c'] = ranked.cr.cumsum() / C\n",
    "    ranked['tr/t'] = ranked.tr.cumsum() / T\n",
    "    # Calculate and put the uplift and random value into dataframe\n",
    "    uplift_model['uplift'] = round(ranked['tr/t'] - ranked['cr/c'],5)\n",
    "    random_model['uplift'] = round(ranked['n'] * uplift_model['uplift'].iloc[-1],5)\n",
    "\n",
    "\n",
    "    # Add q0\n",
    "    q0 = pd.DataFrame({'n':0, 'uplift':0, 'target_class': None}, index =[0])\n",
    "    uplift_model = pd.concat([q0, uplift_model]).reset_index(drop = True)\n",
    "    random_model = pd.concat([q0, random_model]).reset_index(drop = True)\n",
    "    # Add model name & concat\n",
    "    uplift_model['model'] = 'Uplift model'\n",
    "    random_model['model'] = 'Random model'\n",
    "    merged = pd.concat([uplift_model, random_model]).sort_values(by='n').reset_index(drop = True)\n",
    "    return merged\n",
    "\n",
    "\n",
    "def qini_plot(merged:pd.DataFrame):\n",
    "    \"\"\"Plot the QINI\n",
    "    \"\"\"\n",
    "    # plot the data\n",
    "    ax = sns.lineplot(x='n', y='uplift', hue='model', data=merged,\n",
    "                      style='model', palette=['red','grey'])\n",
    "\n",
    "\n",
    "    # Plot settings\n",
    "    sns.set_style('whitegrid')\n",
    "    handles, labels = ax.get_legend_handles_labels()\n",
    "    plt.xlabel('Proportion targeted',fontsize=15)\n",
    "    plt.ylabel('Uplift',fontsize=15)\n",
    "    plt.subplots_adjust(right=1)\n",
    "    plt.subplots_adjust(top=1)\n",
    "    plt.legend(fontsize=12)\n",
    "    ax.tick_params(labelsize=15)\n",
    "    ax.legend(handles=handles[1:], labels=labels[1:], loc='upper right')\n",
    "    return ax\n",
    "\n",
    "\n",
    "def qini(uplift:pd.DataFrame):\n",
    "    \"\"\"Combine all functions\n",
    "    \"\"\"\n",
    "    ranked = qini_rank(uplift)\n",
    "    merged = qini_eval(ranked)\n",
    "    ax = qini_plot(merged)\n",
    "    return ax"
   ]
  },
  {
   "cell_type": "markdown",
   "metadata": {},
   "source": [
    "# Результаты\n",
    "Кривая QINI показывает, что применение uplift модели для выбора клиентов для взаимодействия показывает лучшие результаты чем случайная модель."
   ]
  },
  {
   "cell_type": "code",
   "execution_count": 102,
   "metadata": {},
   "outputs": [
    {
     "data": {
      "image/png": "[encoded data removed]",
      "text/plain": [
       "<Figure size 640x480 with 1 Axes>"
      ]
     },
     "metadata": {},
     "output_type": "display_data"
    }
   ],
   "source": [
    "# plot the Qini curve for treatment\n",
    "qini(treat_uplift)\n",
    "plt.title('Qini Curve - treatment',fontsize=20)"
   ]
  },
  {
   "cell_type": "code",
   "execution_count": null,
   "metadata": {},
   "outputs": [],
   "source": []
  }
 ],
 "metadata": {
  "kernelspec": {
   "display_name": "Python 3",
   "language": "python",
   "name": "python3"
  },
  "language_info": {
   "codemirror_mode": {
    "name": "ipython",
    "version": 3
   },
   "file_extension": ".py",
   "mimetype": "text/x-python",
   "name": "python",
   "nbconvert_exporter": "python",
   "pygments_lexer": "ipython3",
   "version": "3.10.0"
  },
  "orig_nbformat": 4
 },
 "nbformat": 4,
 "nbformat_minor": 2
}
